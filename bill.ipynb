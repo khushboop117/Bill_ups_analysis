{
 "cells": [
  {
   "cell_type": "markdown",
   "metadata": {},
   "source": [
    "## Importing Libraries"
   ]
  },
  {
   "cell_type": "code",
   "execution_count": 1,
   "metadata": {},
   "outputs": [],
   "source": [
    "import pandas as pd\n",
    "import numpy as np\n",
    "import seaborn as sns\n",
    "import matplotlib.pyplot as plt\n",
    "import random\n",
    "from sklearn.preprocessing import LabelEncoder\n",
    "from sklearn.model_selection import train_test_split\n",
    "from sklearn.linear_model import LogisticRegression\\\n",
    "\n",
    "import pandas as pd\n",
    "import numpy as np\n",
    "import boto3\n",
    "import awswrangler\n",
    "from scipy.stats import chi2_contingency\n",
    "from sklearn.linear_model import LinearRegression\n",
    "from sklearn.linear_model import LogisticRegression\n",
    "from sklearn.tree import DecisionTreeClassifier\n",
    "from sklearn.model_selection import train_test_split\n",
    "from sklearn.metrics import r2_score, explained_variance_score, confusion_matrix, accuracy_score, classification_report, log_loss\n",
    "from math import sqrt"
   ]
  },
  {
   "cell_type": "markdown",
   "metadata": {},
   "source": [
    "## Calling csv files used for analysis"
   ]
  },
  {
   "cell_type": "code",
   "execution_count": 2,
   "metadata": {},
   "outputs": [],
   "source": [
    "libraries = pd.read_csv(\"libraries.csv\")\n",
    "checkouts = pd.read_csv(\"checkouts.csv\")\n",
    "customers = pd.read_csv(\"customers.csv\")\n",
    "books = pd.read_csv(\"books.csv\")"
   ]
  },
  {
   "cell_type": "markdown",
   "metadata": {},
   "source": [
    "## Joining tables using primary key and foregin key"
   ]
  },
  {
   "cell_type": "code",
   "execution_count": 3,
   "metadata": {},
   "outputs": [],
   "source": [
    "lib_check = pd.merge(left=libraries, right=checkouts, left_on='id', right_on='library_id')\n",
    "table1 = pd.merge(left=lib_check, right=customers, left_on='patron_id', right_on='id')\n",
    "table2 = pd.merge(left=table1, right=books, left_on='id_y', right_on='id')"
   ]
  },
  {
   "cell_type": "code",
   "execution_count": 4,
   "metadata": {},
   "outputs": [],
   "source": [
    "##table2.head()"
   ]
  },
  {
   "cell_type": "code",
   "execution_count": 5,
   "metadata": {},
   "outputs": [
    {
     "data": {
      "text/plain": [
       "Index(['id_x', 'name_x', 'street_address_x', 'city_x', 'region', 'postal_code',\n",
       "       'id_y', 'patron_id', 'library_id', 'date_checkout', 'date_returned',\n",
       "       'id_x', 'name_y', 'street_address_y', 'city_y', 'state', 'zipcode',\n",
       "       'birth_date', 'gender', 'education', 'occupation', 'id_y', 'title',\n",
       "       'authors', 'publisher', 'publishedDate', 'categories', 'price',\n",
       "       'pages'],\n",
       "      dtype='object')"
      ]
     },
     "execution_count": 5,
     "metadata": {},
     "output_type": "execute_result"
    }
   ],
   "source": [
    "table2.columns"
   ]
  },
  {
   "cell_type": "markdown",
   "metadata": {},
   "source": [
    "## Data Cleaning"
   ]
  },
  {
   "cell_type": "markdown",
   "metadata": {},
   "source": [
    "#### Dropping city and region because they contains all the values as Portland and Oregon respectively. Hence it is of no use in predicing depened variable so dropping those columns"
   ]
  },
  {
   "cell_type": "code",
   "execution_count": 6,
   "metadata": {},
   "outputs": [],
   "source": [
    "table2 = table2.drop(columns=[\"city_x\",\"city_y\",\"state\",\"region\",\"street_address_y\",\"street_address_x\",\"library_id\"])"
   ]
  },
  {
   "cell_type": "code",
   "execution_count": 7,
   "metadata": {},
   "outputs": [],
   "source": [
    "table2 = table2.dropna(subset=[\"date_checkout\",\"date_returned\"])"
   ]
  },
  {
   "cell_type": "code",
   "execution_count": 8,
   "metadata": {},
   "outputs": [],
   "source": [
    "import datetime\n",
    "table2['date_returned'] = pd.to_datetime(table2['date_returned'],errors='coerce')\n",
    "table2['date_checkout'] = pd.to_datetime(table2['date_checkout'],errors='coerce')"
   ]
  },
  {
   "cell_type": "markdown",
   "metadata": {},
   "source": [
    "#### Calculating age from birth_date columns and then making categories based on age range\n"
   ]
  },
  {
   "cell_type": "code",
   "execution_count": 9,
   "metadata": {},
   "outputs": [],
   "source": [
    "table2['birth_date'] = table2['birth_date'].str[:4]\n",
    "table2['birth_date'] = table2['birth_date'].astype('float').astype('Int32')"
   ]
  },
  {
   "cell_type": "code",
   "execution_count": 10,
   "metadata": {},
   "outputs": [],
   "source": [
    "table2['age'] = 2021 - table2['birth_date']\n",
    "age_bins = np.arange(10,121,10)\n",
    "\n",
    "labels= ['10-20','21-30','31-40','41-50','51-60','61-70','71-80','81-90','91-100','101-110','111-120']\n",
    "table2['age_group'] = pd.cut(table2.age, bins=age_bins, labels=labels, right=True)\n",
    "\n",
    "labels= np.arange(1, 12)\n",
    "table2['age_group_number'] = pd.cut(table2.age, bins=age_bins, labels=labels, right=True)\n",
    "table2= table2.drop(columns=[\"birth_date\",\"age\",\"age_group\"])"
   ]
  },
  {
   "cell_type": "code",
   "execution_count": 11,
   "metadata": {},
   "outputs": [],
   "source": [
    "val = np.ravel(table2.age_group_number.values)\n",
    "val = val[~np.isnan(val)]\n"
   ]
  },
  {
   "cell_type": "code",
   "execution_count": 12,
   "metadata": {},
   "outputs": [],
   "source": [
    "table2.age_group_number = table2.age_group_number.fillna(random.choice(val))"
   ]
  },
  {
   "cell_type": "markdown",
   "metadata": {},
   "source": [
    "#### Cleaning gender table as it contains different names for same entity"
   ]
  },
  {
   "cell_type": "code",
   "execution_count": 13,
   "metadata": {},
   "outputs": [],
   "source": [
    "table2.loc[(table2.gender == 'male'),'gender']='M'\n",
    "table2.loc[(table2.gender == 'male '),'gender']='M'\n",
    "table2.loc[(table2.gender == 'MALE'),'gender']='M'\n",
    "table2.loc[(table2.gender == ' male'),'gender']='M'\n",
    "table2.loc[(table2.gender == 'female'),'gender']='F'\n",
    "table2.loc[(table2.gender == ' female'),'gender']='F'\n",
    "table2.loc[(table2.gender == 'female '),'gender']='M'\n",
    "table2.loc[(table2.gender == 'FEMALE'),'gender']='M'"
   ]
  },
  {
   "cell_type": "code",
   "execution_count": 14,
   "metadata": {},
   "outputs": [
    {
     "data": {
      "text/plain": [
       "array(['M', 'F', nan], dtype=object)"
      ]
     },
     "execution_count": 14,
     "metadata": {},
     "output_type": "execute_result"
    }
   ],
   "source": [
    "table2.gender.unique()"
   ]
  },
  {
   "cell_type": "markdown",
   "metadata": {},
   "source": [
    "#### dropping null values for the columns date_checkout and date_returned"
   ]
  },
  {
   "cell_type": "code",
   "execution_count": 15,
   "metadata": {},
   "outputs": [],
   "source": [
    "table2 = table2.dropna(subset=[\"date_checkout\",\"date_returned\"])"
   ]
  },
  {
   "cell_type": "markdown",
   "metadata": {},
   "source": [
    "## Making new is_late column to show whether the book has been returned late or not"
   ]
  },
  {
   "cell_type": "code",
   "execution_count": 16,
   "metadata": {},
   "outputs": [],
   "source": [
    "table2[\"no_of_days\"] = table2[\"date_returned\"]-table2[\"date_checkout\"]\n",
    "table2['no_of_days'] = table2['no_of_days'].dt.days.astype('int16')\n",
    "table2[\"legit\"]= np.where(table2[\"no_of_days\"]>=0, 1, 0)\n",
    "table2[\"is_late\"]= np.where(table2[\"no_of_days\"]>=28, 1, 0)"
   ]
  },
  {
   "cell_type": "markdown",
   "metadata": {},
   "source": [
    "#### Cleaning education column"
   ]
  },
  {
   "cell_type": "code",
   "execution_count": 17,
   "metadata": {},
   "outputs": [],
   "source": [
    "table2['education'] =table2['education'].str.upper()\n",
    "table2['education'] = table2['education'].str.strip()"
   ]
  },
  {
   "cell_type": "code",
   "execution_count": 18,
   "metadata": {},
   "outputs": [
    {
     "data": {
      "text/plain": [
       "0    1554\n",
       "1     291\n",
       "Name: is_late, dtype: int64"
      ]
     },
     "execution_count": 18,
     "metadata": {},
     "output_type": "execute_result"
    }
   ],
   "source": [
    "table2.is_late.value_counts()"
   ]
  },
  {
   "cell_type": "markdown",
   "metadata": {},
   "source": [
    "#### The above statistics shows that data is imbalanced as there are more number of rows having is_late = 0 i.e. people have returned books on time and they are not late. "
   ]
  },
  {
   "cell_type": "markdown",
   "metadata": {},
   "source": [
    "### Cleaning price, pages and zipcode columns. Removing all the irrelevant symbols present in the date"
   ]
  },
  {
   "cell_type": "code",
   "execution_count": 19,
   "metadata": {},
   "outputs": [],
   "source": [
    "table2[\"price\"] = table2[\"price\"].str.extract(r'(\\d+)', expand=False)\n",
    "table2[\"pages\"] = table2[\"pages\"].str.extract(r'(\\d+)', expand=False)\n",
    "#table2[\"postal_code\"] = table2[\"postal_code\"].str.extract(r'(\\d+)', expand=False)\n",
    "table2[\"zipcode\"] = table2[\"zipcode\"].str.extract(r'(\\d+)', expand=False)"
   ]
  },
  {
   "cell_type": "code",
   "execution_count": 20,
   "metadata": {},
   "outputs": [],
   "source": [
    "table2['price'] = table2['price'].fillna(0).astype(np.int64, errors='ignore')\n",
    "table2['postal_code'] = table2['postal_code'].fillna(0).astype(np.int64, errors='ignore')"
   ]
  },
  {
   "cell_type": "code",
   "execution_count": 21,
   "metadata": {},
   "outputs": [],
   "source": [
    "table2 = table2.dropna(subset=[\"zipcode\"])"
   ]
  },
  {
   "cell_type": "markdown",
   "metadata": {},
   "source": [
    "## Handling NULL values"
   ]
  },
  {
   "cell_type": "code",
   "execution_count": 22,
   "metadata": {},
   "outputs": [
    {
     "data": {
      "text/plain": [
       "0       97224\n",
       "2       97223\n",
       "3       97225\n",
       "4       97201\n",
       "5       97229\n",
       "        ...  \n",
       "1994    97202\n",
       "1995    97227\n",
       "1996    97233\n",
       "1997    97211\n",
       "1998    97217\n",
       "Name: zipcode, Length: 1844, dtype: object"
      ]
     },
     "execution_count": 22,
     "metadata": {},
     "output_type": "execute_result"
    }
   ],
   "source": [
    "table2.zipcode"
   ]
  },
  {
   "cell_type": "code",
   "execution_count": 23,
   "metadata": {
    "scrolled": true
   },
   "outputs": [
    {
     "name": "stderr",
     "output_type": "stream",
     "text": [
      "/opt/anaconda3/lib/python3.8/site-packages/pandas/core/series.py:4517: SettingWithCopyWarning: \n",
      "A value is trying to be set on a copy of a slice from a DataFrame\n",
      "\n",
      "See the caveats in the documentation: https://pandas.pydata.org/pandas-docs/stable/user_guide/indexing.html#returning-a-view-versus-a-copy\n",
      "  return super().fillna(\n"
     ]
    }
   ],
   "source": [
    "table2.price.fillna(value=table2['price'].mean(), inplace=True)\n",
    "table2.zipcode.fillna(value=table2['zipcode'].mode(), inplace=True)"
   ]
  },
  {
   "cell_type": "markdown",
   "metadata": {},
   "source": [
    "#### Replacing it with mean for price column and median for zipcode column"
   ]
  },
  {
   "cell_type": "code",
   "execution_count": null,
   "metadata": {},
   "outputs": [],
   "source": []
  },
  {
   "cell_type": "markdown",
   "metadata": {},
   "source": [
    "## Data Exploration"
   ]
  },
  {
   "cell_type": "code",
   "execution_count": 24,
   "metadata": {},
   "outputs": [
    {
     "data": {
      "text/plain": [
       "<AxesSubplot:xlabel='name_x'>"
      ]
     },
     "execution_count": 24,
     "metadata": {},
     "output_type": "execute_result"
    },
    {
     "data": {
      "image/png": "[encoded data removed]",
      "text/plain": [
       "<Figure size 432x288 with 1 Axes>"
      ]
     },
     "metadata": {
      "needs_background": "light"
     },
     "output_type": "display_data"
    }
   ],
   "source": [
    "df = table2.groupby(['name_x'])['is_late'].sum()\n",
    "\n",
    "df.plot.bar()"
   ]
  },
  {
   "cell_type": "markdown",
   "metadata": {},
   "source": [
    "### The above plot shows the statistics of the count of times people have returned their books late categories by each library. From the data, we can see that Mulnomah county library has most number of late return recoeds while ML library Capitol Hill has the learst number of late returns "
   ]
  },
  {
   "cell_type": "code",
   "execution_count": 25,
   "metadata": {},
   "outputs": [
    {
     "data": {
      "image/png": "[encoded data removed]",
      "text/plain": [
       "<Figure size 432x288 with 1 Axes>"
      ]
     },
     "metadata": {},
     "output_type": "display_data"
    }
   ],
   "source": [
    "carrier_count = table2['is_late'].value_counts()\n",
    "sns.set(style=\"darkgrid\")\n",
    "sns.barplot(carrier_count.index, carrier_count.values, alpha=0.9)\n",
    "plt.title('Frequency Distribution of is_late')\n",
    "plt.ylabel('Number of Occurrences', fontsize=12)\n",
    "plt.xlabel('is_late', fontsize=12)\n",
    "plt.show()"
   ]
  },
  {
   "cell_type": "markdown",
   "metadata": {},
   "source": [
    "## Data Analysis, Feature Engineering and Model Building"
   ]
  },
  {
   "cell_type": "code",
   "execution_count": 26,
   "metadata": {},
   "outputs": [],
   "source": [
    "##table2.loc[(table2['is_late']== 1) ].head(50)"
   ]
  },
  {
   "cell_type": "code",
   "execution_count": 27,
   "metadata": {},
   "outputs": [],
   "source": [
    "##table2.loc[(table2['is_late']== 1) ].tail(50)"
   ]
  },
  {
   "cell_type": "code",
   "execution_count": null,
   "metadata": {},
   "outputs": [],
   "source": []
  },
  {
   "cell_type": "markdown",
   "metadata": {},
   "source": [
    "### Encoding categorical columns"
   ]
  },
  {
   "cell_type": "code",
   "execution_count": 28,
   "metadata": {},
   "outputs": [],
   "source": [
    "def encode(col,df):\n",
    "    le = LabelEncoder()\n",
    "    le.fit(df[col].astype(str))\n",
    "    df[col] = le.transform(df[col].astype(str))"
   ]
  },
  {
   "cell_type": "code",
   "execution_count": 29,
   "metadata": {},
   "outputs": [],
   "source": [
    "cat = [\"name_x\",\"name_y\",\"postal_code\",\"gender\",\"occupation\",\"publisher\",\"authors\",\"education\",\"title\",\"categories\"]\n",
    "for i in cat:\n",
    "    encode(i,table2)"
   ]
  },
  {
   "cell_type": "markdown",
   "metadata": {},
   "source": [
    "### Selecting relevant columns"
   ]
  },
  {
   "cell_type": "code",
   "execution_count": 30,
   "metadata": {},
   "outputs": [],
   "source": [
    "\n",
    "final_table = table2[[\"name_x\",\"name_y\",\"zipcode\",\"gender\",\"education\",\"occupation\",\"price\",\"pages\",\"age_group_number\",\"legit\",\"is_late\"]]"
   ]
  },
  {
   "cell_type": "markdown",
   "metadata": {},
   "source": [
    "### Train-test-validation splitting"
   ]
  },
  {
   "cell_type": "code",
   "execution_count": 31,
   "metadata": {},
   "outputs": [],
   "source": [
    "x = final_table.drop(columns = \"is_late\")\n",
    "y = final_table[\"is_late\"]\n",
    "x_train, x_test, y_train, y_test = train_test_split(x, y,train_size = 0.8, test_size=0.2, random_state=6788)"
   ]
  },
  {
   "cell_type": "code",
   "execution_count": 32,
   "metadata": {},
   "outputs": [],
   "source": [
    "## Hold out validation for imbalanced dataset since the data is imbalanced\n",
    "x_train, x_valid, y_train, y_valid = train_test_split(x_train, y_train, train_size = 0.9, test_size=0.1, random_state=15)"
   ]
  },
  {
   "cell_type": "markdown",
   "metadata": {},
   "source": [
    "### Calculating how important a feature is in predicting depends variable (is_late)"
   ]
  },
  {
   "cell_type": "code",
   "execution_count": 33,
   "metadata": {},
   "outputs": [
    {
     "data": {
      "text/plain": [
       "name_x              0\n",
       "name_y              0\n",
       "zipcode             0\n",
       "gender              0\n",
       "education           0\n",
       "occupation          0\n",
       "price               0\n",
       "pages               0\n",
       "age_group_number    0\n",
       "legit               0\n",
       "is_late             0\n",
       "dtype: int64"
      ]
     },
     "execution_count": 33,
     "metadata": {},
     "output_type": "execute_result"
    }
   ],
   "source": [
    "final_table.isnull().sum()"
   ]
  },
  {
   "cell_type": "code",
   "execution_count": 34,
   "metadata": {},
   "outputs": [
    {
     "name": "stdout",
     "output_type": "stream",
     "text": [
      "The feature importance for name_x is : 0.0865914592135917\n",
      "The feature importance for name_y is : 0.1524465224088886\n",
      "The feature importance for zipcode is : 0.16034702752052085\n",
      "The feature importance for gender is : 0.03316496158287256\n",
      "The feature importance for education is : 0.046890240663804976\n",
      "The feature importance for occupation is : 0.060004603607530134\n",
      "The feature importance for price is : 0.10846454724997244\n",
      "The feature importance for pages is : 0.1584267820308752\n",
      "The feature importance for age_group_number is : 0.04496747909275327\n",
      "The feature importance for legit is : 0.14869637662919025\n"
     ]
    }
   ],
   "source": [
    "from sklearn.tree import DecisionTreeClassifier\n",
    "dt = DecisionTreeClassifier(random_state=15, criterion = 'entropy', max_depth = 10)\n",
    "dt.fit(x,y)\n",
    "fi_col = []\n",
    "fi = []\n",
    "\n",
    "for i,column in enumerate(final_table.drop('is_late', axis = 1)):\n",
    "    print('The feature importance for {} is : {}'.format(column, dt.feature_importances_[i]))\n",
    "    \n",
    "    fi_col.append(column)\n",
    "    fi.append(dt.feature_importances_[i])"
   ]
  },
  {
   "cell_type": "code",
   "execution_count": 35,
   "metadata": {},
   "outputs": [
    {
     "data": {
      "text/html": [
       "<div>\n",
       "<style scoped>\n",
       "    .dataframe tbody tr th:only-of-type {\n",
       "        vertical-align: middle;\n",
       "    }\n",
       "\n",
       "    .dataframe tbody tr th {\n",
       "        vertical-align: top;\n",
       "    }\n",
       "\n",
       "    .dataframe thead th {\n",
       "        text-align: right;\n",
       "    }\n",
       "</style>\n",
       "<table border=\"1\" class=\"dataframe\">\n",
       "  <thead>\n",
       "    <tr style=\"text-align: right;\">\n",
       "      <th></th>\n",
       "      <th>index</th>\n",
       "      <th>Feature</th>\n",
       "      <th>Feature Importance</th>\n",
       "    </tr>\n",
       "  </thead>\n",
       "  <tbody>\n",
       "    <tr>\n",
       "      <th>0</th>\n",
       "      <td>2</td>\n",
       "      <td>zipcode</td>\n",
       "      <td>0.160347</td>\n",
       "    </tr>\n",
       "    <tr>\n",
       "      <th>1</th>\n",
       "      <td>7</td>\n",
       "      <td>pages</td>\n",
       "      <td>0.158427</td>\n",
       "    </tr>\n",
       "    <tr>\n",
       "      <th>2</th>\n",
       "      <td>1</td>\n",
       "      <td>name_y</td>\n",
       "      <td>0.152447</td>\n",
       "    </tr>\n",
       "    <tr>\n",
       "      <th>3</th>\n",
       "      <td>9</td>\n",
       "      <td>legit</td>\n",
       "      <td>0.148696</td>\n",
       "    </tr>\n",
       "    <tr>\n",
       "      <th>4</th>\n",
       "      <td>6</td>\n",
       "      <td>price</td>\n",
       "      <td>0.108465</td>\n",
       "    </tr>\n",
       "    <tr>\n",
       "      <th>5</th>\n",
       "      <td>0</td>\n",
       "      <td>name_x</td>\n",
       "      <td>0.086591</td>\n",
       "    </tr>\n",
       "    <tr>\n",
       "      <th>6</th>\n",
       "      <td>5</td>\n",
       "      <td>occupation</td>\n",
       "      <td>0.060005</td>\n",
       "    </tr>\n",
       "    <tr>\n",
       "      <th>7</th>\n",
       "      <td>4</td>\n",
       "      <td>education</td>\n",
       "      <td>0.046890</td>\n",
       "    </tr>\n",
       "    <tr>\n",
       "      <th>8</th>\n",
       "      <td>8</td>\n",
       "      <td>age_group_number</td>\n",
       "      <td>0.044967</td>\n",
       "    </tr>\n",
       "    <tr>\n",
       "      <th>9</th>\n",
       "      <td>3</td>\n",
       "      <td>gender</td>\n",
       "      <td>0.033165</td>\n",
       "    </tr>\n",
       "  </tbody>\n",
       "</table>\n",
       "</div>"
      ],
      "text/plain": [
       "   index           Feature  Feature Importance\n",
       "0      2           zipcode            0.160347\n",
       "1      7             pages            0.158427\n",
       "2      1            name_y            0.152447\n",
       "3      9             legit            0.148696\n",
       "4      6             price            0.108465\n",
       "5      0            name_x            0.086591\n",
       "6      5        occupation            0.060005\n",
       "7      4         education            0.046890\n",
       "8      8  age_group_number            0.044967\n",
       "9      3            gender            0.033165"
      ]
     },
     "execution_count": 35,
     "metadata": {},
     "output_type": "execute_result"
    }
   ],
   "source": [
    "fi_col\n",
    "fi\n",
    "\n",
    "fi_df = zip(fi_col, fi)\n",
    "fi_df = pd.DataFrame(fi_df, columns = ['Feature','Feature Importance'])\n",
    "fi_df\n",
    "\n",
    "\n",
    "# Ordering the data\n",
    "fi_df = fi_df.sort_values('Feature Importance', ascending = False).reset_index()\n",
    "\n",
    "# Creating columns to keep\n",
    "columns_to_keep = fi_df['Feature'][0:19]\n",
    "\n",
    "fi_df.head(n=30)"
   ]
  },
  {
   "cell_type": "markdown",
   "metadata": {},
   "source": [
    "## Model building and evalualting it"
   ]
  },
  {
   "cell_type": "code",
   "execution_count": 36,
   "metadata": {},
   "outputs": [
    {
     "name": "stdout",
     "output_type": "stream",
     "text": [
      "Testing Acc: 0.8373983739837398\n",
      "Log Loss: 5.616061202424501\n"
     ]
    }
   ],
   "source": [
    "## Training a dummy classifiera\n",
    "from sklearn.dummy import DummyClassifier\n",
    "\n",
    "dummy_clf = DummyClassifier(strategy=\"most_frequent\")\n",
    "dummy_clf.fit(x_train, y_train)\n",
    "score = dummy_clf.score(x_test, y_test)\n",
    "\n",
    "pred_proba_t = dummy_clf.predict_proba(x_test)\n",
    "log_loss2 = log_loss(y_test, pred_proba_t)\n",
    "\n",
    "print(\"Testing Acc:\", score)\n",
    "print(\"Log Loss:\", log_loss2)"
   ]
  },
  {
   "cell_type": "code",
   "execution_count": 37,
   "metadata": {},
   "outputs": [
    {
     "name": "stdout",
     "output_type": "stream",
     "text": [
      "Accuracy of Logistic regression classifier on training set: 0.84\n",
      "Accuracy of Logistic regression classifier on test set: 0.84\n"
     ]
    }
   ],
   "source": [
    "logreg = LogisticRegression()\n",
    "logreg.fit(x_train, y_train)\n",
    "print('Accuracy of Logistic regression classifier on training set: {:.2f}'\n",
    "     .format(logreg.score(x_train, y_train)))\n",
    "print('Accuracy of Logistic regression classifier on test set: {:.2f}'\n",
    "     .format(logreg.score(x_test, y_test)))"
   ]
  },
  {
   "cell_type": "code",
   "execution_count": 38,
   "metadata": {},
   "outputs": [
    {
     "data": {
      "text/plain": [
       "array([[ 3.74032923e-04,  3.95074789e-04, -2.29720271e-05,\n",
       "        -1.45057865e-04,  1.19831333e-04, -5.39002275e-03,\n",
       "         1.28283097e-03,  6.43651051e-05, -3.02221197e-04,\n",
       "         6.82043932e-04]])"
      ]
     },
     "execution_count": 38,
     "metadata": {},
     "output_type": "execute_result"
    }
   ],
   "source": [
    "log_reg = LogisticRegression(random_state=10, solver = 'lbfgs')\n",
    "\n",
    "log_reg.fit(x_train, y_train)\n",
    "\n",
    "# predict - Predict class labels for samples in X\n",
    "log_reg.predict(x_train)\n",
    "y_pred = log_reg.predict(x_train)\n",
    "\n",
    "# predict_proba - Probability estimates\n",
    "pred_proba = log_reg.predict_proba(x_train)\n",
    "\n",
    "# coef_ - Coefficient of the features in the decision function\n",
    "log_reg.coef_\n",
    "\n"
   ]
  },
  {
   "cell_type": "code",
   "execution_count": 39,
   "metadata": {},
   "outputs": [
    {
     "name": "stdout",
     "output_type": "stream",
     "text": [
      "The Training Accuracy is:  0.8394875659382065\n",
      "The Testing Accuracy is:  0.8373983739837398\n",
      "              precision    recall  f1-score   support\n",
      "\n",
      "           0       0.84      1.00      0.91      1114\n",
      "           1       0.00      0.00      0.00       213\n",
      "\n",
      "    accuracy                           0.84      1327\n",
      "   macro avg       0.42      0.50      0.46      1327\n",
      "weighted avg       0.70      0.84      0.77      1327\n",
      "\n"
     ]
    },
    {
     "name": "stderr",
     "output_type": "stream",
     "text": [
      "/opt/anaconda3/lib/python3.8/site-packages/sklearn/metrics/_classification.py:1221: UndefinedMetricWarning: Precision and F-score are ill-defined and being set to 0.0 in labels with no predicted samples. Use `zero_division` parameter to control this behavior.\n",
      "  _warn_prf(average, modifier, msg_start, len(result))\n"
     ]
    }
   ],
   "source": [
    "# Accuracy on Train\n",
    "print(\"The Training Accuracy is: \", log_reg.score(x_train, y_train))\n",
    "\n",
    "# Accuracy on Test\n",
    "print(\"The Testing Accuracy is: \", log_reg.score(x_test, y_test))\n",
    "\n",
    "\n",
    "# Classification Report\n",
    "print(classification_report(y_train, y_pred))"
   ]
  },
  {
   "cell_type": "code",
   "execution_count": null,
   "metadata": {},
   "outputs": [],
   "source": []
  },
  {
   "cell_type": "markdown",
   "metadata": {},
   "source": [
    "## Steps"
   ]
  },
  {
   "cell_type": "markdown",
   "metadata": {},
   "source": [
    "1) First called all the csv files and merged it using primary key and foreign key as from the schema given. <br><br>\n",
    "2) Data Cleaning: handles the null values, dropping columns not relevant, feature contruction like calculating age from dob which helps in knowing the demographics of the customer, encoding categorical values so that they can be used in model. Clearning columns like zipcode, pages, price as it contained garbage values like '|',\"USD\" and others<br><br>\n",
    "3) Data visualization: To get insights from the data given below<br><br>\n",
    "4) Data Analysis and Model builidng: Here I have used logisitic regression to build the model as it is a binary classification problem  (predicitng whether the customer has returned on time or not) and then finding out the reasons for the problem"
   ]
  },
  {
   "cell_type": "markdown",
   "metadata": {},
   "source": [
    "## Insights from the data"
   ]
  },
  {
   "cell_type": "markdown",
   "metadata": {},
   "source": [
    "1) Mulnomah county(MC) library has most number of late return records while ML library Capitol Hill has the least number of late returns "
   ]
  },
  {
   "cell_type": "markdown",
   "metadata": {},
   "source": [
    "2) Students in high schools have returned late as compared to others but the difference is not so significant"
   ]
  },
  {
   "cell_type": "markdown",
   "metadata": {},
   "source": [
    "3) Books of cateogry Business & Economics have been returned late."
   ]
  },
  {
   "cell_type": "markdown",
   "metadata": {},
   "source": [
    "4) Books having more pages than have been returned late"
   ]
  },
  {
   "cell_type": "code",
   "execution_count": 40,
   "metadata": {},
   "outputs": [
    {
     "name": "stdout",
     "output_type": "stream",
     "text": [
      "Rate_of_late_return : 0.16\n"
     ]
    }
   ],
   "source": [
    "Rate_of_late_return = round(table2[\"is_late\"].sum()/table2.shape[0],2)\n",
    "print(\"Rate_of_late_return :\", Rate_of_late_return)"
   ]
  },
  {
   "cell_type": "markdown",
   "metadata": {},
   "source": [
    "16 out of 100 books issued have been returned late"
   ]
  },
  {
   "cell_type": "markdown",
   "metadata": {},
   "source": [
    "## Recommendations"
   ]
  },
  {
   "cell_type": "markdown",
   "metadata": {},
   "source": [
    "Factors which are affecting more in late returns are: Library location, price of the book, pages of the book and catgory of the books.\n"
   ]
  },
  {
   "cell_type": "markdown",
   "metadata": {},
   "source": [
    "Also there are more number of return cases in MC library so the location might be far from the residential area but it would be difficult for people to commute. So maybe we should shift the location and get it more nearer to residential area/schools/colleges."
   ]
  },
  {
   "cell_type": "markdown",
   "metadata": {},
   "source": [
    "Also, books with more pages tend to be returned late so maybe for books more than 1000 pages, so we can increase the late-return span from 28 days to 35 days. "
   ]
  },
  {
   "cell_type": "markdown",
   "metadata": {},
   "source": [
    "For the books with high price, we can charge fees if returned late. This will prevent people from returning expensive books late."
   ]
  },
  {
   "cell_type": "code",
   "execution_count": null,
   "metadata": {},
   "outputs": [],
   "source": []
  },
  {
   "cell_type": "markdown",
   "metadata": {},
   "source": [
    "## Next step"
   ]
  },
  {
   "cell_type": "markdown",
   "metadata": {},
   "source": [
    "There are dummy values in date_issue where they issued book in the 1800 century so not sure how accurate is this. If we can handle this data or can get better data\n",
    "we can get more accurate model which helps in knowing the reasons for late return"
   ]
  },
  {
   "cell_type": "markdown",
   "metadata": {},
   "source": [
    "Data given is more of the year 2018, maybe we can get the data from other years and check if there is any tren or seasonality in the datea. Like maybe people are returning late more in the time like novemebr-decemebr when there is thanksgiving holidays, winter/christmas break. More maybe they refer the book for their exams and they return when the exam is over."
   ]
  },
  {
   "cell_type": "markdown",
   "metadata": {},
   "source": [
    "We can use various other techniques/ model for the analysis."
   ]
  },
  {
   "cell_type": "markdown",
   "metadata": {},
   "source": [
    "#### Note** I have not shows some of the steps or commented out as it contains the data which I am not suppose to discuss"
   ]
  },
  {
   "cell_type": "code",
   "execution_count": null,
   "metadata": {},
   "outputs": [],
   "source": []
  },
  {
   "cell_type": "code",
   "execution_count": null,
   "metadata": {},
   "outputs": [],
   "source": []
  }
 ],
 "metadata": {
  "kernelspec": {
   "display_name": "Python 3",
   "language": "python",
   "name": "python3"
  },
  "language_info": {
   "codemirror_mode": {
    "name": "ipython",
    "version": 3
   },
   "file_extension": ".py",
   "mimetype": "text/x-python",
   "name": "python",
   "nbconvert_exporter": "python",
   "pygments_lexer": "ipython3",
   "version": "3.8.2"
  }
 },
 "nbformat": 4,
 "nbformat_minor": 4
}
